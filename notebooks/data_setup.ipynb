{
 "cells": [
  {
   "cell_type": "markdown",
   "metadata": {
    "pycharm": {
     "name": "#%% md\n"
    }
   },
   "source": [
    "# Import Statements"
   ]
  },
  {
   "cell_type": "code",
   "execution_count": 35,
   "metadata": {
    "ExecuteTime": {
     "end_time": "2020-12-28T22:24:21.426546Z",
     "start_time": "2020-12-28T22:24:21.404980Z"
    },
    "pycharm": {
     "name": "#%%\n"
    }
   },
   "outputs": [],
   "source": [
    "# regular imports\n",
    "import pandas as pd\n",
    "import numpy as np\n",
    "import matplotlib as plt\n",
    "import seaborn as sns\n",
    "\n",
    "%matplotlib inline"
   ]
  },
  {
   "cell_type": "code",
   "execution_count": 36,
   "metadata": {
    "ExecuteTime": {
     "end_time": "2020-12-28T22:24:22.359390Z",
     "start_time": "2020-12-28T22:24:22.354175Z"
    },
    "pycharm": {
     "name": "#%%\n"
    }
   },
   "outputs": [],
   "source": [
    "# display related imports\n",
    "from IPython.display import display, Image\n",
    "from IPython.display import HTML\n",
    "from IPython.display import IFrame\n",
    "\n",
    "# Widgets\n",
    "import ipywidgets as widgets\n",
    "from ipywidgets import interact, interact_manual\n",
    "#!jupyter nbextension enable --py widgetsnbextension\n",
    "\n",
    "# to save dataframe as an image\n",
    "import dataframe_image as dfi\n",
    "\n",
    "# hide warnings\n",
    "import warnings\n",
    "warnings.filterwarnings('ignore')"
   ]
  },
  {
   "cell_type": "markdown",
   "metadata": {
    "pycharm": {
     "name": "#%% md\n"
    }
   },
   "source": [
    "# Functions for display and data\n"
   ]
  },
  {
   "cell_type": "code",
   "execution_count": 37,
   "metadata": {
    "ExecuteTime": {
     "end_time": "2020-12-28T22:24:23.851426Z",
     "start_time": "2020-12-28T22:24:23.829549Z"
    },
    "pycharm": {
     "name": "#%%\n"
    }
   },
   "outputs": [],
   "source": [
    "# interact allows makes the function interactive without a needed call to it\n",
    "#@interact\n",
    "def w_(n_columns=(5, 30, 5), n_rows=(10,60, 10)):\n",
    "    ''' sliders to select max rows and columns, not really needed here, but usefull in other notebooks'''\n",
    "    if n_columns>25:\n",
    "        pd.set_option('display.max_columns', None)\n",
    "        c = 'ALL'\n",
    "    else:\n",
    "        pd.set_option('display.max_columns', n_columns)\n",
    "        c = str(n_columns)\n",
    "    if n_rows > 50:\n",
    "        pd.set_option('display.max_rows', None)\n",
    "        r = 'ALL'\n",
    "    else:\n",
    "        pd.set_option('display.max_rows', n_rows)\n",
    "        r = str(n_rows)\n",
    "    print('Number of columns to display ->', c)\n",
    "    print('Number of rows to display ->', r)\n",
    "    \n",
    "    \n",
    "def quick_(quick=(False, True)):\n",
    "    return quick"
   ]
  },
  {
   "cell_type": "code",
   "execution_count": 38,
   "metadata": {
    "ExecuteTime": {
     "end_time": "2020-12-28T22:24:24.461496Z",
     "start_time": "2020-12-28T22:24:24.459633Z"
    },
    "pycharm": {
     "name": "#%%\n"
    }
   },
   "outputs": [],
   "source": [
    "# EDA Functions"
   ]
  },
  {
   "cell_type": "code",
   "execution_count": 39,
   "metadata": {
    "ExecuteTime": {
     "end_time": "2020-12-28T22:24:25.407250Z",
     "start_time": "2020-12-28T22:24:25.402845Z"
    },
    "pycharm": {
     "name": "#%%\n"
    }
   },
   "outputs": [],
   "source": [
    "def view_describe(df, ret_percent):\n",
    "    ''' does a describe on data and returns a smaller dataframe to look at based on percent'''\n",
    "    print('SHAPE')\n",
    "    print(df.shape)\n",
    "    print('*' * 100)\n",
    "    print('HEAD')\n",
    "    print(df.head(10))\n",
    "    print('*' * 100)\n",
    "    print('DESCRIBE')\n",
    "    print(df.describe().round())\n",
    "    if ret_percent < 1:\n",
    "        return df.sample(frac = ret_percent, random_state = 22)\n",
    "    return df"
   ]
  },
  {
   "cell_type": "code",
   "execution_count": 40,
   "metadata": {
    "ExecuteTime": {
     "end_time": "2020-12-28T22:24:26.287999Z",
     "start_time": "2020-12-28T22:24:26.285971Z"
    },
    "pycharm": {
     "name": "#%%\n"
    }
   },
   "outputs": [],
   "source": [
    "# Change Col Names"
   ]
  },
  {
   "cell_type": "code",
   "execution_count": 41,
   "metadata": {
    "ExecuteTime": {
     "end_time": "2020-12-28T22:24:27.880727Z",
     "start_time": "2020-12-28T22:24:27.877382Z"
    },
    "pycharm": {
     "name": "#%%\n"
    }
   },
   "outputs": [],
   "source": [
    "def change_col_space_lower(df):\n",
    "    '''Function to setup the column names\n",
    "    Inputs: dataframe\n",
    "    Outputs: dataframe with changed column names\n",
    "     - All lower Case\n",
    "     - no spaces, change to _\n",
    "     - no dashes, change to _\n",
    "     - will add a dict input that will change key words into other word\n",
    "     (i.e. employment to emp)\n",
    "    '''\n",
    "    df.columns = df.columns.str.replace((' ' and '-'), '_').str.lower()"
   ]
  },
  {
   "cell_type": "code",
   "execution_count": 42,
   "metadata": {
    "ExecuteTime": {
     "end_time": "2020-12-28T22:24:28.712189Z",
     "start_time": "2020-12-28T22:24:28.709576Z"
    },
    "pycharm": {
     "name": "#%%\n"
    }
   },
   "outputs": [],
   "source": [
    "# Look at Missing Data"
   ]
  },
  {
   "cell_type": "code",
   "execution_count": 43,
   "metadata": {
    "ExecuteTime": {
     "end_time": "2020-12-28T22:24:29.641768Z",
     "start_time": "2020-12-28T22:24:29.634741Z"
    },
    "pycharm": {
     "name": "#%%\n"
    }
   },
   "outputs": [],
   "source": [
    "def missing_data_df(df_):\n",
    "    ''' function to transpose the data use the column names to describe the data set\n",
    "    input: dataframe\n",
    "    output: transposed dataframe with info on missing count,\n",
    "        missing percent,\n",
    "        count of data,\n",
    "        unigue values\n",
    "    '''\n",
    "    df = pd.DataFrame(df_.head(1).T).reset_index()\n",
    "    df['na_count']   = [df_[col_].isnull().sum() for col_ in df['index']]\n",
    "    df['na_percent'] = [df_[col_].isnull().sum()/df_.shape[0] for col_ in df['index']]\n",
    "    df['count']      = [df_[col_].count() for col_ in df['index']]\n",
    "    df['unique_count'] = [len(df_[col_].unique()) for col_ in df['index']]\n",
    "    df['dtype_'] = [df_[col_].dtypes for col_ in df['index']]\n",
    "    df['unique_data'] = ['None' if df_[col_].dtypes != np.object else ','.join(map(str, df_[col_].unique())) for col_ in df['index']]\n",
    "    df['Drop_'] = 0\n",
    "\n",
    "    df.drop(0, axis=1, inplace=True)\n",
    "    df.columns = df.columns.str.replace('index', 'col_name')\n",
    "    return df\n",
    "\n"
   ]
  },
  {
   "cell_type": "code",
   "execution_count": 44,
   "metadata": {
    "pycharm": {
     "name": "#%%\n"
    }
   },
   "outputs": [],
   "source": [
    "def fico(ret_):\n",
    "    \n",
    "    if ret_ < 580:\n",
    "        return 1\n",
    "    if ret_ < 670:\n",
    "        return 2\n",
    "    if ret_ <740:\n",
    "        return 3\n",
    "    if ret_ < 800:\n",
    "        return 4\n",
    "    if ret_ < 851:\n",
    "        return 5\n",
    "    else:\n",
    "        return 0\n",
    "# based on scores from https://corporatefinanceinstitute.com/resources/knowledge/credit/credit-score-analysis/     "
   ]
  },
  {
   "cell_type": "markdown",
   "metadata": {
    "tags": [
     "#21"
    ]
   },
   "source": [
    "# Lending Club Info\n",
    "Lending Club: https://drive.google.com/file/d/10XHxLtu0Jcuf4hXxB8F3oPdlUlMKYV9g/view?usp=sharing\n",
    "\n",
    "https://www.kaggle.com/wordsforthewise/lending-club\n",
    "\n",
    "https://www.lendingclub.com"
   ]
  },
  {
   "cell_type": "markdown",
   "metadata": {
    "tags": [
     "#22>=21"
    ],
    "pycharm": {
     "name": "#%% md\n"
    }
   },
   "source": [
    "# Display Setup"
   ]
  },
  {
   "cell_type": "code",
   "execution_count": 45,
   "metadata": {
    "ExecuteTime": {
     "end_time": "2020-12-28T22:24:32.384381Z",
     "start_time": "2020-12-28T22:24:32.339005Z"
    },
    "pycharm": {
     "name": "#%%\n"
    }
   },
   "outputs": [
    {
     "name": "stdout",
     "output_type": "stream",
     "text": [
      "Number of columns to display -> 15\n",
      "Number of rows to display -> 30\n",
      "be careful, full dataset can go slow when set to max\n"
     ]
    }
   ],
   "source": [
    "print('Select True for fast setup and use pickle saved data, and False to go through all data setup\")')\n",
    "QUICK = interact(quick_)\n",
    "print('sliders to change number of rows and columns')\n",
    "interact(w_)\n",
    "print('be careful, full dataset can go slow when set to max')"
   ]
  },
  {
   "cell_type": "code",
   "execution_count": 46,
   "metadata": {
    "ExecuteTime": {
     "end_time": "2020-12-28T22:32:20.443963Z",
     "start_time": "2020-12-28T22:31:53.883941Z"
    },
    "pycharm": {
     "name": "#%%\n"
    }
   },
   "outputs": [
    {
     "name": "stdout",
     "output_type": "stream",
     "text": [
      "You Loaded the accepted file, this is the full file!\n"
     ]
    }
   ],
   "source": [
    "# load data, set that you want pick one, both sets will slow down computer - also skip and load smaller pickle\n",
    "# set if that is all you need\n",
    "QUICK = False\n",
    "if QUICK:\n",
    "    LOAD = 'Accept_pickle' # 'None' 'Rejected' 'Both' 'Accept_pickle' 'Accepted'\n",
    "else:\n",
    "    LOAD = 'Accepted'\n",
    "if LOAD == 'Accepted':\n",
    "    accepted = pd.read_csv('data/lending_data/accepted_2007_to_2018Q4.csv')\n",
    "    print('You Loaded the accepted file, this is the full file!')\n",
    "elif LOAD == 'Rejected':\n",
    "    rejected = pd.read_csv('data/lending_data/rejected_2007_to_2018Q4.csv')\n",
    "    print('You loaded the Rejected File, this is the full file')\n",
    "elif LOAD == 'Both':\n",
    "    accepted = pd.read_csv('data/lending_data/accepted_2007_to_2018Q4.csv')\n",
    "    rejected = pd.read_csv('data/lending_data/rejected_2007_to_2018Q4.csv')\n",
    "elif LOAD == 'Accept_pickle':\n",
    "    accepted = pd.read_pickle('data/accepted_rem_na.pkl')\n",
    "    print('Loaded the pickle file - all changes below are reflected in this file')\n",
    "else:\n",
    "    print('Nothing Has Been Loaded!')"
   ]
  },
  {
   "cell_type": "code",
   "execution_count": 47,
   "metadata": {
    "ExecuteTime": {
     "end_time": "2020-12-24T19:29:37.997269Z",
     "start_time": "2020-12-24T19:29:37.994900Z"
    },
    "pycharm": {
     "name": "#%%\n"
    }
   },
   "outputs": [
    {
     "name": "stdout",
     "output_type": "stream",
     "text": [
      "SHAPE\n",
      "(2260701, 151)\n",
      "****************************************************************************************************\n",
      "HEAD\n",
      "         id  member_id  loan_amnt  funded_amnt  funded_amnt_inv        term  \\\n",
      "0  68407277        NaN     3600.0       3600.0           3600.0   36 months   \n",
      "1  68355089        NaN    24700.0      24700.0          24700.0   36 months   \n",
      "2  68341763        NaN    20000.0      20000.0          20000.0   60 months   \n",
      "3  66310712        NaN    35000.0      35000.0          35000.0   60 months   \n",
      "4  68476807        NaN    10400.0      10400.0          10400.0   60 months   \n",
      "5  68426831        NaN    11950.0      11950.0          11950.0   36 months   \n",
      "6  68476668        NaN    20000.0      20000.0          20000.0   36 months   \n",
      "7  67275481        NaN    20000.0      20000.0          20000.0   36 months   \n",
      "8  68466926        NaN    10000.0      10000.0          10000.0   36 months   \n",
      "9  68616873        NaN     8000.0       8000.0           8000.0   36 months   \n",
      "\n",
      "   int_rate  ...  debt_settlement_flag debt_settlement_flag_date  \\\n",
      "0     13.99  ...                     N                       NaN   \n",
      "1     11.99  ...                     N                       NaN   \n",
      "2     10.78  ...                     N                       NaN   \n",
      "3     14.85  ...                     N                       NaN   \n",
      "4     22.45  ...                     N                       NaN   \n",
      "5     13.44  ...                     N                       NaN   \n",
      "6      9.17  ...                     N                       NaN   \n",
      "7      8.49  ...                     N                       NaN   \n",
      "8      6.49  ...                     N                       NaN   \n",
      "9     11.48  ...                     N                       NaN   \n",
      "\n",
      "  settlement_status settlement_date settlement_amount settlement_percentage  \\\n",
      "0               NaN             NaN               NaN                   NaN   \n",
      "1               NaN             NaN               NaN                   NaN   \n",
      "2               NaN             NaN               NaN                   NaN   \n",
      "3               NaN             NaN               NaN                   NaN   \n",
      "4               NaN             NaN               NaN                   NaN   \n",
      "5               NaN             NaN               NaN                   NaN   \n",
      "6               NaN             NaN               NaN                   NaN   \n",
      "7               NaN             NaN               NaN                   NaN   \n",
      "8               NaN             NaN               NaN                   NaN   \n",
      "9               NaN             NaN               NaN                   NaN   \n",
      "\n",
      "   settlement_term  \n",
      "0              NaN  \n",
      "1              NaN  \n",
      "2              NaN  \n",
      "3              NaN  \n",
      "4              NaN  \n",
      "5              NaN  \n",
      "6              NaN  \n",
      "7              NaN  \n",
      "8              NaN  \n",
      "9              NaN  \n",
      "\n",
      "[10 rows x 151 columns]\n",
      "****************************************************************************************************\n",
      "DESCRIBE\n",
      "       member_id  loan_amnt  funded_amnt  funded_amnt_inv   int_rate  \\\n",
      "count        0.0  2260668.0    2260668.0        2260668.0  2260668.0   \n",
      "mean         NaN    15047.0      15042.0          15023.0       13.0   \n",
      "std          NaN     9190.0       9188.0           9192.0        5.0   \n",
      "min          NaN      500.0        500.0              0.0        5.0   \n",
      "25%          NaN     8000.0       8000.0           8000.0        9.0   \n",
      "50%          NaN    12900.0      12875.0          12800.0       13.0   \n",
      "75%          NaN    20000.0      20000.0          20000.0       16.0   \n",
      "max          NaN    40000.0      40000.0          40000.0       31.0   \n",
      "\n",
      "       installment   annual_inc  ...  hardship_dpd  \\\n",
      "count    2260668.0    2260664.0  ...       10917.0   \n",
      "mean         446.0      77992.0  ...          14.0   \n",
      "std          267.0     112696.0  ...          10.0   \n",
      "min            5.0          0.0  ...           0.0   \n",
      "25%          252.0      46000.0  ...           5.0   \n",
      "50%          378.0      65000.0  ...          15.0   \n",
      "75%          593.0      93000.0  ...          22.0   \n",
      "max         1720.0  110000000.0  ...          37.0   \n",
      "\n",
      "       orig_projected_additional_accrued_interest  \\\n",
      "count                                      8651.0   \n",
      "mean                                        455.0   \n",
      "std                                         375.0   \n",
      "min                                           2.0   \n",
      "25%                                         175.0   \n",
      "50%                                         353.0   \n",
      "75%                                         620.0   \n",
      "max                                        2681.0   \n",
      "\n",
      "       hardship_payoff_balance_amount  hardship_last_payment_amount  \\\n",
      "count                         10917.0                       10917.0   \n",
      "mean                          11637.0                         194.0   \n",
      "std                            7626.0                         199.0   \n",
      "min                              56.0                           0.0   \n",
      "25%                            5627.0                          44.0   \n",
      "50%                           10028.0                         133.0   \n",
      "75%                           16152.0                         284.0   \n",
      "max                           40306.0                        1408.0   \n",
      "\n",
      "       settlement_amount  settlement_percentage  settlement_term  \n",
      "count            34246.0                34246.0          34246.0  \n",
      "mean              5011.0                   48.0             13.0  \n",
      "std               3693.0                    7.0              8.0  \n",
      "min                 44.0                    0.0              0.0  \n",
      "25%               2208.0                   45.0              6.0  \n",
      "50%               4146.0                   45.0             14.0  \n",
      "75%               6850.0                   50.0             18.0  \n",
      "max              33601.0                  521.0            181.0  \n",
      "\n",
      "[8 rows x 113 columns]\n"
     ]
    },
    {
     "ename": "NameError",
     "evalue": "name 'rejected' is not defined",
     "output_type": "error",
     "traceback": [
      "\u001B[0;31m---------------------------------------------------------------------------\u001B[0m",
      "\u001B[0;31mNameError\u001B[0m                                 Traceback (most recent call last)",
      "\u001B[0;32m<ipython-input-47-557aeaf3e17a>\u001B[0m in \u001B[0;36m<module>\u001B[0;34m\u001B[0m\n\u001B[1;32m      4\u001B[0m \u001B[0;31m# %%script false <- make false if you just want to load pickle version\u001B[0m\u001B[0;34m\u001B[0m\u001B[0;34m\u001B[0m\u001B[0;34m\u001B[0m\u001B[0m\n\u001B[1;32m      5\u001B[0m     \u001B[0maccepted_sm\u001B[0m \u001B[0;34m=\u001B[0m \u001B[0mview_describe\u001B[0m\u001B[0;34m(\u001B[0m\u001B[0maccepted\u001B[0m\u001B[0;34m,\u001B[0m \u001B[0;36m.01\u001B[0m\u001B[0;34m)\u001B[0m\u001B[0;34m\u001B[0m\u001B[0;34m\u001B[0m\u001B[0m\n\u001B[0;32m----> 6\u001B[0;31m     \u001B[0mrejected_sm\u001B[0m \u001B[0;34m=\u001B[0m \u001B[0mview_describe\u001B[0m\u001B[0;34m(\u001B[0m\u001B[0mrejected\u001B[0m\u001B[0;34m,\u001B[0m \u001B[0;36m.01\u001B[0m\u001B[0;34m)\u001B[0m\u001B[0;34m\u001B[0m\u001B[0;34m\u001B[0m\u001B[0m\n\u001B[0m",
      "\u001B[0;31mNameError\u001B[0m: name 'rejected' is not defined"
     ]
    }
   ],
   "source": [
    "if not QUICK:\n",
    "    \n",
    "# makes a small version of the data set and shows describe on full set of data\n",
    "# %%script false <- make false if you just want to load pickle version\n",
    "    accepted_sm = view_describe(accepted, .01)\n",
    "    rejected_sm = view_describe(rejected, .01)"
   ]
  },
  {
   "cell_type": "markdown",
   "metadata": {
    "pycharm": {
     "name": "#%% md\n"
    }
   },
   "source": [
    "# To Pickle"
   ]
  },
  {
   "cell_type": "code",
   "execution_count": null,
   "metadata": {
    "ExecuteTime": {
     "end_time": "2020-12-24T18:58:29.132960Z",
     "start_time": "2020-12-24T18:58:29.130203Z"
    },
    "pycharm": {
     "name": "#%%\n"
    }
   },
   "outputs": [],
   "source": [
    "if not QUICK: \n",
    "    col_accep = missing_data_df(accepted)\n",
    "    col_accep.to_pickle('data/col_info_accept.pkl')\n",
    "    col_rejected = missing_data_df(rejected)\n",
    "    col_rejected.to_pickle('data/col_info_rejected.pkl')\n",
    "    accepted_sm.to_pickle('data/accepted_sm.pkl')\n",
    "    rejected_sm.to_pickle('data/rejected_sm.pkl')"
   ]
  },
  {
   "cell_type": "markdown",
   "metadata": {
    "pycharm": {
     "name": "#%% md\n"
    }
   },
   "source": [
    "# Load Pickle"
   ]
  },
  {
   "cell_type": "code",
   "execution_count": null,
   "metadata": {
    "ExecuteTime": {
     "end_time": "2020-12-24T18:58:32.347606Z",
     "start_time": "2020-12-24T18:58:32.345784Z"
    },
    "pycharm": {
     "name": "#%%\n"
    }
   },
   "outputs": [],
   "source": [
    "# used to load pickle of smaller data, not used at this time...\n",
    "\n",
    "# col_accepted = pd.read_pickle('data/col_info_accept.pkl')\n",
    "# col_rejected = pd.read_pickle('data/col_info_rejected.pkl')\n",
    "# accepted_sm = pd.read_pickle('data/accepted_sm.pkl')"
   ]
  },
  {
   "cell_type": "code",
   "execution_count": null,
   "metadata": {
    "pycharm": {
     "name": "#%%\n"
    }
   },
   "outputs": [],
   "source": []
  },
  {
   "cell_type": "code",
   "execution_count": null,
   "metadata": {
    "ExecuteTime": {
     "end_time": "2020-12-24T18:58:33.926552Z",
     "start_time": "2020-12-24T18:58:33.924126Z"
    },
    "pycharm": {
     "name": "#%%\n"
    }
   },
   "outputs": [],
   "source": [
    "# ******* setting up an xlxs for looking at data columns *****\n",
    "# this has all been done, just leaving code here in case it needs to be done again\n",
    "#!pip install openpyxl - need to install to write excel file\n",
    "#!pip install xlrd - need to install to read excel file\n",
    "#sending to csv so I can update column info in excel\n",
    "#accepted = pd.read_csv('data/lending_data/accepted_2007_to_2018Q4.csv')\n",
    "#col_accep = missing_data_df(accepted)\n",
    "#col_accep.to_excel('data/column_accep_info.xlsx')"
   ]
  },
  {
   "cell_type": "code",
   "execution_count": null,
   "metadata": {
    "ExecuteTime": {
     "end_time": "2020-12-23T23:06:44.128198Z",
     "start_time": "2020-12-23T23:06:44.065207Z"
    },
    "pycharm": {
     "name": "#%%\n"
    }
   },
   "outputs": [],
   "source": [
    "# col_accep_excel = pd.read_excel('data/column_accep_info.xls')"
   ]
  },
  {
   "cell_type": "code",
   "execution_count": null,
   "metadata": {
    "pycharm": {
     "name": "#%%\n"
    }
   },
   "outputs": [],
   "source": [
    "# col_accep_excel"
   ]
  },
  {
   "cell_type": "markdown",
   "metadata": {
    "pycharm": {
     "name": "#%% md\n"
    }
   },
   "source": [
    "# Notes"
   ]
  },
  {
   "cell_type": "code",
   "execution_count": null,
   "metadata": {
    "pycharm": {
     "name": "#%%\n"
    }
   },
   "outputs": [],
   "source": [
    "# predict expected return from start?\n",
    "# recreate their risk score?\n",
    "# can I create a warning system when a loan is become in danger, create\n",
    "# a system to mediate before it hits the danger area?\n",
    "# figure out the loss amounts and see how to reduce?"
   ]
  },
  {
   "cell_type": "markdown",
   "metadata": {
    "pycharm": {
     "name": "#%% md\n"
    }
   },
   "source": [
    "breaking all the accepted loans into deals (bonds)\n",
    "Have different investment classes for the deals (groups of loans)\n",
    "You have the Very Safe Deal\n",
    "the Medium Risk deal (some risk some return)\n",
    "the High Risk High Reward Class\n",
    "The Junk bond status let's roll the dice!\n",
    "\n",
    "What discount rate would be required to make these marketable?\n",
    "\n",
    "Problems:\n",
    "not sure this data gives the date that problems start? might not be useable that way\n",
    "but can use the start data and make projections about the data from the start\n",
    "\n",
    "Can also look at their interest rate to calculate based on their starting rates...\n",
    "\n",
    "High of 30+ percent, pretty sure that is capped in some states, might need to see which states cap their rates for personal loans... usury laws"
   ]
  },
  {
   "cell_type": "code",
   "execution_count": null,
   "metadata": {
    "pycharm": {
     "name": "#%%\n"
    }
   },
   "outputs": [],
   "source": [
    "# and all good things come to an end, and so does this!"
   ]
  },
  {
   "cell_type": "markdown",
   "metadata": {},
   "source": [
    "https://help.lendingclub.com/hc/en-us/articles/360050574891-Important-Updates-to-the-LendingClub-Notes-Platform\n",
    "\n",
    "They are ending the notes program Dec 28th of this year!\n",
    "So, it will no longer be available as a program.\n",
    "Might want to copy their website so that future students have this as a resource."
   ]
  },
  {
   "cell_type": "markdown",
   "metadata": {
    "pycharm": {
     "name": "#%% md\n"
    }
   },
   "source": [
    "Below is their loan grades and how they classify them into 12 deals... with their percents as of june 30, 2019...\n",
    "2,311,305 loans open at that time...\n",
    "\n",
    "\n"
   ]
  },
  {
   "cell_type": "markdown",
   "metadata": {
    "pycharm": {
     "name": "#%% md\n"
    }
   },
   "source": [
    "# Project IDEA????\n",
    "\n",
    "Since they are closing this side of the business, would it make sense to analyze this business to see if it's profitable. Can we create a better algorithm  for predicting payback? If so, what would be our future project if we created this business model again?\n",
    "\n"
   ]
  },
  {
   "cell_type": "code",
   "execution_count": null,
   "metadata": {
    "ExecuteTime": {
     "end_time": "2020-12-24T00:00:42.824350Z",
     "start_time": "2020-12-24T00:00:42.815617Z"
    },
    "pycharm": {
     "name": "#%%\n"
    }
   },
   "outputs": [],
   "source": [
    "Image('lending_club_deals.png')\n"
   ]
  },
  {
   "cell_type": "code",
   "execution_count": null,
   "metadata": {
    "ExecuteTime": {
     "end_time": "2020-12-23T23:59:36.428506Z",
     "start_time": "2020-12-23T23:59:36.426529Z"
    },
    "pycharm": {
     "name": "#%%\n"
    }
   },
   "outputs": [],
   "source": [
    "# Split app date to month year\n",
    "# State 52? is that na and DC?\n",
    "# Risk score, High Bad?\n",
    "# Loan Title - parse interesting words out? Can figure from columns at start"
   ]
  },
  {
   "cell_type": "markdown",
   "metadata": {
    "pycharm": {
     "name": "#%% md\n"
    }
   },
   "source": [
    "# From here down I'm just playing around with the data getting used to it...\n",
    "# Finding columns to eliminate"
   ]
  },
  {
   "cell_type": "code",
   "execution_count": null,
   "metadata": {
    "pycharm": {
     "name": "#%%\n"
    }
   },
   "outputs": [],
   "source": []
  },
  {
   "cell_type": "markdown",
   "metadata": {
    "pycharm": {
     "name": "#%% md\n"
    }
   },
   "source": [
    "# Column info\n",
    "\n",
    "# credit report info\n",
    "delinq_2yrs\n",
    "earliest_cr_line date\n",
    "fico_range_high\n",
    "fico_range_high\n",
    "inq_last_6mnths\n",
    "mths_since_last_delinq\n",
    "\n",
    "loan_amnt - float *\n",
    "funded_amnt - drop\n",
    "funded_amnt_inv - drop\n",
    "\n",
    "term - cat (36, 60) *\n",
    "int_rate - float *\n",
    "installment (float) *\n",
    "grade - cat (a-e) *\n",
    "sub_grade - cat *\n",
    "emp_title - string keep for now? *\n",
    "emp_length - cat 0-10 *\n",
    "home_ownership - cat (rent, own, Mortgage) *\n",
    "annual_inc float *\n",
    "verification_status cat (change to bool) *\n",
    "issue_d date (month year) *\n",
    "\n",
    "loan_status cat - keep\n",
    "pymnt_plan - I think this is used for defaults ?\n",
    "desc - used to describe pymnt_plan ?\n",
    "\n",
    "purpose cat consol *\n",
    "title cat consol *\n",
    "zip_code cat *\n",
    "abbr_state cat *\n",
    "dti * debt-to-income same as in rejected"
   ]
  },
  {
   "cell_type": "code",
   "execution_count": null,
   "metadata": {
    "pycharm": {
     "name": "#%%\n"
    }
   },
   "outputs": [],
   "source": []
  },
  {
   "cell_type": "markdown",
   "metadata": {
    "pycharm": {
     "name": "#%% md\n"
    }
   },
   "source": [
    "# Reducing NA's"
   ]
  },
  {
   "cell_type": "code",
   "execution_count": 48,
   "metadata": {
    "ExecuteTime": {
     "end_time": "2020-12-28T16:56:11.475095Z",
     "start_time": "2020-12-28T16:55:48.776032Z"
    },
    "pycharm": {
     "name": "#%%\n"
    }
   },
   "outputs": [],
   "source": [
    "accepted = pd.read_csv('data/lending_data/accepted_2007_to_2018Q4.csv')"
   ]
  },
  {
   "cell_type": "code",
   "execution_count": 49,
   "metadata": {
    "ExecuteTime": {
     "end_time": "2020-12-28T16:41:58.487263Z",
     "start_time": "2020-12-28T16:41:58.441195Z"
    },
    "deletable": false,
    "editable": false,
    "run_control": {
     "frozen": true
    }
   },
   "outputs": [
    {
     "data": {
      "text/html": [
       "<div>\n",
       "<style scoped>\n",
       "    .dataframe tbody tr th:only-of-type {\n",
       "        vertical-align: middle;\n",
       "    }\n",
       "\n",
       "    .dataframe tbody tr th {\n",
       "        vertical-align: top;\n",
       "    }\n",
       "\n",
       "    .dataframe thead th {\n",
       "        text-align: right;\n",
       "    }\n",
       "</style>\n",
       "<table border=\"1\" class=\"dataframe\">\n",
       "  <thead>\n",
       "    <tr style=\"text-align: right;\">\n",
       "      <th></th>\n",
       "      <th>id</th>\n",
       "      <th>member_id</th>\n",
       "      <th>loan_amnt</th>\n",
       "      <th>funded_amnt</th>\n",
       "      <th>funded_amnt_inv</th>\n",
       "      <th>term</th>\n",
       "      <th>int_rate</th>\n",
       "      <th>...</th>\n",
       "      <th>debt_settlement_flag</th>\n",
       "      <th>debt_settlement_flag_date</th>\n",
       "      <th>settlement_status</th>\n",
       "      <th>settlement_date</th>\n",
       "      <th>settlement_amount</th>\n",
       "      <th>settlement_percentage</th>\n",
       "      <th>settlement_term</th>\n",
       "    </tr>\n",
       "  </thead>\n",
       "  <tbody>\n",
       "    <tr>\n",
       "      <th>421095</th>\n",
       "      <td>Total amount funded in policy code 1: 6417608175</td>\n",
       "      <td>NaN</td>\n",
       "      <td>NaN</td>\n",
       "      <td>NaN</td>\n",
       "      <td>NaN</td>\n",
       "      <td>NaN</td>\n",
       "      <td>NaN</td>\n",
       "      <td>...</td>\n",
       "      <td>NaN</td>\n",
       "      <td>NaN</td>\n",
       "      <td>NaN</td>\n",
       "      <td>NaN</td>\n",
       "      <td>NaN</td>\n",
       "      <td>NaN</td>\n",
       "      <td>NaN</td>\n",
       "    </tr>\n",
       "    <tr>\n",
       "      <th>421096</th>\n",
       "      <td>Total amount funded in policy code 2: 1944088810</td>\n",
       "      <td>NaN</td>\n",
       "      <td>NaN</td>\n",
       "      <td>NaN</td>\n",
       "      <td>NaN</td>\n",
       "      <td>NaN</td>\n",
       "      <td>NaN</td>\n",
       "      <td>...</td>\n",
       "      <td>NaN</td>\n",
       "      <td>NaN</td>\n",
       "      <td>NaN</td>\n",
       "      <td>NaN</td>\n",
       "      <td>NaN</td>\n",
       "      <td>NaN</td>\n",
       "      <td>NaN</td>\n",
       "    </tr>\n",
       "    <tr>\n",
       "      <th>528961</th>\n",
       "      <td>Total amount funded in policy code 1: 1741781700</td>\n",
       "      <td>NaN</td>\n",
       "      <td>NaN</td>\n",
       "      <td>NaN</td>\n",
       "      <td>NaN</td>\n",
       "      <td>NaN</td>\n",
       "      <td>NaN</td>\n",
       "      <td>...</td>\n",
       "      <td>NaN</td>\n",
       "      <td>NaN</td>\n",
       "      <td>NaN</td>\n",
       "      <td>NaN</td>\n",
       "      <td>NaN</td>\n",
       "      <td>NaN</td>\n",
       "      <td>NaN</td>\n",
       "    </tr>\n",
       "    <tr>\n",
       "      <th>528962</th>\n",
       "      <td>Total amount funded in policy code 2: 564202131</td>\n",
       "      <td>NaN</td>\n",
       "      <td>NaN</td>\n",
       "      <td>NaN</td>\n",
       "      <td>NaN</td>\n",
       "      <td>NaN</td>\n",
       "      <td>NaN</td>\n",
       "      <td>...</td>\n",
       "      <td>NaN</td>\n",
       "      <td>NaN</td>\n",
       "      <td>NaN</td>\n",
       "      <td>NaN</td>\n",
       "      <td>NaN</td>\n",
       "      <td>NaN</td>\n",
       "      <td>NaN</td>\n",
       "    </tr>\n",
       "    <tr>\n",
       "      <th>651664</th>\n",
       "      <td>Total amount funded in policy code 1: 1791201400</td>\n",
       "      <td>NaN</td>\n",
       "      <td>NaN</td>\n",
       "      <td>NaN</td>\n",
       "      <td>NaN</td>\n",
       "      <td>NaN</td>\n",
       "      <td>NaN</td>\n",
       "      <td>...</td>\n",
       "      <td>NaN</td>\n",
       "      <td>NaN</td>\n",
       "      <td>NaN</td>\n",
       "      <td>NaN</td>\n",
       "      <td>NaN</td>\n",
       "      <td>NaN</td>\n",
       "      <td>NaN</td>\n",
       "    </tr>\n",
       "    <tr>\n",
       "      <th>...</th>\n",
       "      <td>...</td>\n",
       "      <td>...</td>\n",
       "      <td>...</td>\n",
       "      <td>...</td>\n",
       "      <td>...</td>\n",
       "      <td>...</td>\n",
       "      <td>...</td>\n",
       "      <td>...</td>\n",
       "      <td>...</td>\n",
       "      <td>...</td>\n",
       "      <td>...</td>\n",
       "      <td>...</td>\n",
       "      <td>...</td>\n",
       "      <td>...</td>\n",
       "      <td>...</td>\n",
       "    </tr>\n",
       "    <tr>\n",
       "      <th>2038502</th>\n",
       "      <td>Total amount funded in policy code 2: 567447023</td>\n",
       "      <td>NaN</td>\n",
       "      <td>NaN</td>\n",
       "      <td>NaN</td>\n",
       "      <td>NaN</td>\n",
       "      <td>NaN</td>\n",
       "      <td>NaN</td>\n",
       "      <td>...</td>\n",
       "      <td>NaN</td>\n",
       "      <td>NaN</td>\n",
       "      <td>NaN</td>\n",
       "      <td>NaN</td>\n",
       "      <td>NaN</td>\n",
       "      <td>NaN</td>\n",
       "      <td>NaN</td>\n",
       "    </tr>\n",
       "    <tr>\n",
       "      <th>2157151</th>\n",
       "      <td>Total amount funded in policy code 1: 1817354125</td>\n",
       "      <td>NaN</td>\n",
       "      <td>NaN</td>\n",
       "      <td>NaN</td>\n",
       "      <td>NaN</td>\n",
       "      <td>NaN</td>\n",
       "      <td>NaN</td>\n",
       "      <td>...</td>\n",
       "      <td>NaN</td>\n",
       "      <td>NaN</td>\n",
       "      <td>NaN</td>\n",
       "      <td>NaN</td>\n",
       "      <td>NaN</td>\n",
       "      <td>NaN</td>\n",
       "      <td>NaN</td>\n",
       "    </tr>\n",
       "    <tr>\n",
       "      <th>2157152</th>\n",
       "      <td>Total amount funded in policy code 2: 620899600</td>\n",
       "      <td>NaN</td>\n",
       "      <td>NaN</td>\n",
       "      <td>NaN</td>\n",
       "      <td>NaN</td>\n",
       "      <td>NaN</td>\n",
       "      <td>NaN</td>\n",
       "      <td>...</td>\n",
       "      <td>NaN</td>\n",
       "      <td>NaN</td>\n",
       "      <td>NaN</td>\n",
       "      <td>NaN</td>\n",
       "      <td>NaN</td>\n",
       "      <td>NaN</td>\n",
       "      <td>NaN</td>\n",
       "    </tr>\n",
       "    <tr>\n",
       "      <th>2260699</th>\n",
       "      <td>Total amount funded in policy code 1: 1465324575</td>\n",
       "      <td>NaN</td>\n",
       "      <td>NaN</td>\n",
       "      <td>NaN</td>\n",
       "      <td>NaN</td>\n",
       "      <td>NaN</td>\n",
       "      <td>NaN</td>\n",
       "      <td>...</td>\n",
       "      <td>NaN</td>\n",
       "      <td>NaN</td>\n",
       "      <td>NaN</td>\n",
       "      <td>NaN</td>\n",
       "      <td>NaN</td>\n",
       "      <td>NaN</td>\n",
       "      <td>NaN</td>\n",
       "    </tr>\n",
       "    <tr>\n",
       "      <th>2260700</th>\n",
       "      <td>Total amount funded in policy code 2: 521953170</td>\n",
       "      <td>NaN</td>\n",
       "      <td>NaN</td>\n",
       "      <td>NaN</td>\n",
       "      <td>NaN</td>\n",
       "      <td>NaN</td>\n",
       "      <td>NaN</td>\n",
       "      <td>...</td>\n",
       "      <td>NaN</td>\n",
       "      <td>NaN</td>\n",
       "      <td>NaN</td>\n",
       "      <td>NaN</td>\n",
       "      <td>NaN</td>\n",
       "      <td>NaN</td>\n",
       "      <td>NaN</td>\n",
       "    </tr>\n",
       "  </tbody>\n",
       "</table>\n",
       "<p>33 rows × 151 columns</p>\n",
       "</div>"
      ],
      "text/plain": [
       "                                                       id  member_id  \\\n",
       "421095   Total amount funded in policy code 1: 6417608175        NaN   \n",
       "421096   Total amount funded in policy code 2: 1944088810        NaN   \n",
       "528961   Total amount funded in policy code 1: 1741781700        NaN   \n",
       "528962    Total amount funded in policy code 2: 564202131        NaN   \n",
       "651664   Total amount funded in policy code 1: 1791201400        NaN   \n",
       "...                                                   ...        ...   \n",
       "2038502   Total amount funded in policy code 2: 567447023        NaN   \n",
       "2157151  Total amount funded in policy code 1: 1817354125        NaN   \n",
       "2157152   Total amount funded in policy code 2: 620899600        NaN   \n",
       "2260699  Total amount funded in policy code 1: 1465324575        NaN   \n",
       "2260700   Total amount funded in policy code 2: 521953170        NaN   \n",
       "\n",
       "         loan_amnt  funded_amnt  funded_amnt_inv term  int_rate  ...  \\\n",
       "421095         NaN          NaN              NaN  NaN       NaN  ...   \n",
       "421096         NaN          NaN              NaN  NaN       NaN  ...   \n",
       "528961         NaN          NaN              NaN  NaN       NaN  ...   \n",
       "528962         NaN          NaN              NaN  NaN       NaN  ...   \n",
       "651664         NaN          NaN              NaN  NaN       NaN  ...   \n",
       "...            ...          ...              ...  ...       ...  ...   \n",
       "2038502        NaN          NaN              NaN  NaN       NaN  ...   \n",
       "2157151        NaN          NaN              NaN  NaN       NaN  ...   \n",
       "2157152        NaN          NaN              NaN  NaN       NaN  ...   \n",
       "2260699        NaN          NaN              NaN  NaN       NaN  ...   \n",
       "2260700        NaN          NaN              NaN  NaN       NaN  ...   \n",
       "\n",
       "         debt_settlement_flag debt_settlement_flag_date settlement_status  \\\n",
       "421095                    NaN                       NaN               NaN   \n",
       "421096                    NaN                       NaN               NaN   \n",
       "528961                    NaN                       NaN               NaN   \n",
       "528962                    NaN                       NaN               NaN   \n",
       "651664                    NaN                       NaN               NaN   \n",
       "...                       ...                       ...               ...   \n",
       "2038502                   NaN                       NaN               NaN   \n",
       "2157151                   NaN                       NaN               NaN   \n",
       "2157152                   NaN                       NaN               NaN   \n",
       "2260699                   NaN                       NaN               NaN   \n",
       "2260700                   NaN                       NaN               NaN   \n",
       "\n",
       "        settlement_date settlement_amount settlement_percentage  \\\n",
       "421095              NaN               NaN                   NaN   \n",
       "421096              NaN               NaN                   NaN   \n",
       "528961              NaN               NaN                   NaN   \n",
       "528962              NaN               NaN                   NaN   \n",
       "651664              NaN               NaN                   NaN   \n",
       "...                 ...               ...                   ...   \n",
       "2038502             NaN               NaN                   NaN   \n",
       "2157151             NaN               NaN                   NaN   \n",
       "2157152             NaN               NaN                   NaN   \n",
       "2260699             NaN               NaN                   NaN   \n",
       "2260700             NaN               NaN                   NaN   \n",
       "\n",
       "         settlement_term  \n",
       "421095               NaN  \n",
       "421096               NaN  \n",
       "528961               NaN  \n",
       "528962               NaN  \n",
       "651664               NaN  \n",
       "...                  ...  \n",
       "2038502              NaN  \n",
       "2157151              NaN  \n",
       "2157152              NaN  \n",
       "2260699              NaN  \n",
       "2260700              NaN  \n",
       "\n",
       "[33 rows x 151 columns]"
      ]
     },
     "execution_count": 49,
     "metadata": {},
     "output_type": "execute_result"
    }
   ],
   "source": [
    "accepted.loc[accepted['loan_amnt'].isna()] \n",
    "# 33 datapoints with na in loan amount are garbage and will be dropped\n",
    "# member Id is na and will be dropped"
   ]
  },
  {
   "cell_type": "code",
   "execution_count": 19,
   "metadata": {
    "ExecuteTime": {
     "end_time": "2020-12-28T22:32:41.002157Z",
     "start_time": "2020-12-28T22:32:20.445496Z"
    }
   },
   "outputs": [
    {
     "data": {
      "text/html": [
       "<div>\n",
       "<style scoped>\n",
       "    .dataframe tbody tr th:only-of-type {\n",
       "        vertical-align: middle;\n",
       "    }\n",
       "\n",
       "    .dataframe tbody tr th {\n",
       "        vertical-align: top;\n",
       "    }\n",
       "\n",
       "    .dataframe thead th {\n",
       "        text-align: right;\n",
       "    }\n",
       "</style>\n",
       "<table border=\"1\" class=\"dataframe\">\n",
       "  <thead>\n",
       "    <tr style=\"text-align: right;\">\n",
       "      <th></th>\n",
       "      <th>col_name</th>\n",
       "      <th>na_count</th>\n",
       "      <th>na_percent</th>\n",
       "      <th>count</th>\n",
       "      <th>unique_count</th>\n",
       "      <th>dtype_</th>\n",
       "      <th>unique_data</th>\n",
       "      <th>Drop_</th>\n",
       "    </tr>\n",
       "  </thead>\n",
       "  <tbody>\n",
       "    <tr>\n",
       "      <th>0</th>\n",
       "      <td>id</td>\n",
       "      <td>0</td>\n",
       "      <td>0.000000</td>\n",
       "      <td>2260701</td>\n",
       "      <td>2260701</td>\n",
       "      <td>object</td>\n",
       "      <td>68407277,68355089,68341763,66310712,68476807,6...</td>\n",
       "      <td>0</td>\n",
       "    </tr>\n",
       "    <tr>\n",
       "      <th>1</th>\n",
       "      <td>member_id</td>\n",
       "      <td>2260701</td>\n",
       "      <td>1.000000</td>\n",
       "      <td>0</td>\n",
       "      <td>1</td>\n",
       "      <td>float64</td>\n",
       "      <td>None</td>\n",
       "      <td>0</td>\n",
       "    </tr>\n",
       "    <tr>\n",
       "      <th>2</th>\n",
       "      <td>loan_amnt</td>\n",
       "      <td>33</td>\n",
       "      <td>0.000015</td>\n",
       "      <td>2260668</td>\n",
       "      <td>1573</td>\n",
       "      <td>float64</td>\n",
       "      <td>None</td>\n",
       "      <td>0</td>\n",
       "    </tr>\n",
       "    <tr>\n",
       "      <th>3</th>\n",
       "      <td>funded_amnt</td>\n",
       "      <td>33</td>\n",
       "      <td>0.000015</td>\n",
       "      <td>2260668</td>\n",
       "      <td>1573</td>\n",
       "      <td>float64</td>\n",
       "      <td>None</td>\n",
       "      <td>0</td>\n",
       "    </tr>\n",
       "    <tr>\n",
       "      <th>4</th>\n",
       "      <td>funded_amnt_inv</td>\n",
       "      <td>33</td>\n",
       "      <td>0.000015</td>\n",
       "      <td>2260668</td>\n",
       "      <td>10058</td>\n",
       "      <td>float64</td>\n",
       "      <td>None</td>\n",
       "      <td>0</td>\n",
       "    </tr>\n",
       "    <tr>\n",
       "      <th>...</th>\n",
       "      <td>...</td>\n",
       "      <td>...</td>\n",
       "      <td>...</td>\n",
       "      <td>...</td>\n",
       "      <td>...</td>\n",
       "      <td>...</td>\n",
       "      <td>...</td>\n",
       "      <td>...</td>\n",
       "    </tr>\n",
       "    <tr>\n",
       "      <th>146</th>\n",
       "      <td>settlement_status</td>\n",
       "      <td>2226455</td>\n",
       "      <td>0.984852</td>\n",
       "      <td>34246</td>\n",
       "      <td>4</td>\n",
       "      <td>object</td>\n",
       "      <td>nan,COMPLETE,BROKEN,ACTIVE</td>\n",
       "      <td>0</td>\n",
       "    </tr>\n",
       "    <tr>\n",
       "      <th>147</th>\n",
       "      <td>settlement_date</td>\n",
       "      <td>2226455</td>\n",
       "      <td>0.984852</td>\n",
       "      <td>34246</td>\n",
       "      <td>91</td>\n",
       "      <td>object</td>\n",
       "      <td>nan,Sep-2017,Nov-2017,Jan-2018,May-2018,Jun-20...</td>\n",
       "      <td>0</td>\n",
       "    </tr>\n",
       "    <tr>\n",
       "      <th>148</th>\n",
       "      <td>settlement_amount</td>\n",
       "      <td>2226455</td>\n",
       "      <td>0.984852</td>\n",
       "      <td>34246</td>\n",
       "      <td>21942</td>\n",
       "      <td>float64</td>\n",
       "      <td>None</td>\n",
       "      <td>0</td>\n",
       "    </tr>\n",
       "    <tr>\n",
       "      <th>149</th>\n",
       "      <td>settlement_percentage</td>\n",
       "      <td>2226455</td>\n",
       "      <td>0.984852</td>\n",
       "      <td>34246</td>\n",
       "      <td>2071</td>\n",
       "      <td>float64</td>\n",
       "      <td>None</td>\n",
       "      <td>0</td>\n",
       "    </tr>\n",
       "    <tr>\n",
       "      <th>150</th>\n",
       "      <td>settlement_term</td>\n",
       "      <td>2226455</td>\n",
       "      <td>0.984852</td>\n",
       "      <td>34246</td>\n",
       "      <td>41</td>\n",
       "      <td>float64</td>\n",
       "      <td>None</td>\n",
       "      <td>0</td>\n",
       "    </tr>\n",
       "  </tbody>\n",
       "</table>\n",
       "<p>151 rows × 8 columns</p>\n",
       "</div>"
      ],
      "text/plain": [
       "                  col_name  na_count  na_percent    count  unique_count  \\\n",
       "0                       id         0    0.000000  2260701       2260701   \n",
       "1                member_id   2260701    1.000000        0             1   \n",
       "2                loan_amnt        33    0.000015  2260668          1573   \n",
       "3              funded_amnt        33    0.000015  2260668          1573   \n",
       "4          funded_amnt_inv        33    0.000015  2260668         10058   \n",
       "..                     ...       ...         ...      ...           ...   \n",
       "146      settlement_status   2226455    0.984852    34246             4   \n",
       "147        settlement_date   2226455    0.984852    34246            91   \n",
       "148      settlement_amount   2226455    0.984852    34246         21942   \n",
       "149  settlement_percentage   2226455    0.984852    34246          2071   \n",
       "150        settlement_term   2226455    0.984852    34246            41   \n",
       "\n",
       "      dtype_                                        unique_data  Drop_  \n",
       "0     object  68407277,68355089,68341763,66310712,68476807,6...      0  \n",
       "1    float64                                               None      0  \n",
       "2    float64                                               None      0  \n",
       "3    float64                                               None      0  \n",
       "4    float64                                               None      0  \n",
       "..       ...                                                ...    ...  \n",
       "146   object                         nan,COMPLETE,BROKEN,ACTIVE      0  \n",
       "147   object  nan,Sep-2017,Nov-2017,Jan-2018,May-2018,Jun-20...      0  \n",
       "148  float64                                               None      0  \n",
       "149  float64                                               None      0  \n",
       "150  float64                                               None      0  \n",
       "\n",
       "[151 rows x 8 columns]"
      ]
     },
     "execution_count": 19,
     "metadata": {},
     "output_type": "execute_result"
    }
   ],
   "source": [
    "missing_data_df(accepted)"
   ]
  },
  {
   "cell_type": "code",
   "execution_count": 50,
   "metadata": {
    "ExecuteTime": {
     "end_time": "2020-12-28T22:33:51.999627Z",
     "start_time": "2020-12-28T22:33:51.970115Z"
    }
   },
   "outputs": [],
   "source": [
    "accepted['funded_amnt'] = accepted['funded_amnt'].fillna(0)"
   ]
  },
  {
   "cell_type": "code",
   "execution_count": 51,
   "metadata": {
    "ExecuteTime": {
     "end_time": "2020-12-28T22:34:34.798825Z",
     "start_time": "2020-12-28T22:34:34.762563Z"
    }
   },
   "outputs": [
    {
     "name": "stdout",
     "output_type": "stream",
     "text": [
      "funded amount 34004208600.0\n",
      "funded amount inv 33963004960.806164\n",
      "loan amount 34016115925.0\n",
      "Loan Amount - Funded Amount 11907325.0\n"
     ]
    }
   ],
   "source": [
    "# difference between funded amount and loan amounts\n",
    "print('funded amount', accepted.funded_amnt.sum())\n",
    "print('funded amount inv', accepted.funded_amnt_inv.sum())\n",
    "print('loan amount', accepted.loan_amnt.sum())\n",
    "print('Loan Amount - Funded Amount', accepted.loan_amnt.sum() - accepted.funded_amnt.sum())"
   ]
  },
  {
   "cell_type": "code",
   "execution_count": 52,
   "metadata": {
    "ExecuteTime": {
     "end_time": "2020-12-28T18:11:53.126096Z",
     "start_time": "2020-12-28T18:11:53.123678Z"
    }
   },
   "outputs": [],
   "source": [
    "# need to rethink the dropping of na's can still drop columns not needed for the data. \n",
    "# need to think about what to use when their is a sec signer (does joint dpi take the value?)"
   ]
  },
  {
   "cell_type": "code",
   "execution_count": 53,
   "metadata": {
    "ExecuteTime": {
     "end_time": "2020-12-28T18:11:53.915030Z",
     "start_time": "2020-12-28T18:11:53.912301Z"
    },
    "pycharm": {
     "name": "#%%\n"
    }
   },
   "outputs": [],
   "source": [
    "# getting rid of the nan and some columns"
   ]
  },
  {
   "cell_type": "code",
   "execution_count": 24,
   "metadata": {
    "ExecuteTime": {
     "end_time": "2020-12-28T22:35:46.578343Z",
     "start_time": "2020-12-28T22:35:36.432340Z"
    },
    "pycharm": {
     "name": "#%%\n"
    }
   },
   "outputs": [],
   "source": [
    "# get rid of NaN in loan_amnt - 33 rows that are missing numerous columns\n",
    "accepted_rem_na = accepted[accepted['loan_amnt'].notna()]\n",
    "# dropping rows with data not usefull for our project\n",
    "accepted_rem_na.drop(['zip_code', 'member_id', 'id'], axis=1, inplace=True)\n",
    "accepted.drop(['url', 'emp_title', 'desc', 'title'], axis=1, inplace=True)\n",
    "# replacing missing dti with max dti - these were created by devide by zero errors\n",
    "accepted_rem_na['dti'].fillna(accepted.dti.max(), inplace=True)\n",
    "# Getting rid of Hardship other than flag and settle columns\n",
    "hardship_col = [col for col in accepted_rem_na if col.startswith('hard')]\n",
    "accepted_rem_na.drop(hardship_col[1:], axis=1, inplace=True)\n",
    "settle_col = [col for col in accepted_rem_na if col.startswith('settle')]\n",
    "accepted_rem_na.drop(settle_col[1:], axis=1, inplace=True)\n",
    "# changing to date and adding month and year\n",
    "accepted_rem_na['issue_d'] = pd.to_datetime(accepted_rem_na['issue_d'])\n",
    "accepted_rem_na['issue_year'] = pd.DatetimeIndex(accepted_rem_na['issue_d']).year\n",
    "accepted_rem_na['issue_month'] = pd.DatetimeIndex(accepted_rem_na['issue_d']).month\n",
    "accepted_rem_na['earliest_cr_line'] = pd.to_datetime(accepted_rem_na['earliest_cr_line'])\n"
   ]
  },
  {
   "cell_type": "code",
   "execution_count": 25,
   "metadata": {},
   "outputs": [],
   "source": [
    "# Fico score and term\n",
    "accepted_rem_na['fico'] = [val for val in ((accepted_rem_na['fico_range_low'] + accepted_rem_na['fico_range_high'])/2)]\n",
    "accepted_rem_na['fico'] = [fico(val) for val in accepted_rem_na['fico']]\n",
    "accepted_rem_na['term_60'] = [1 if val == ' 60 months' else 0 for val in accepted_rem_na['term']]\n"
   ]
  },
  {
   "cell_type": "code",
   "execution_count": 28,
   "metadata": {},
   "outputs": [],
   "source": [
    "# earliest credit\n",
    "\n",
    "accepted_rem_na['years_since_earliest_credit'] = [dt_ for dt_ in ((accepted_rem_na['issue_d'] - accepted_rem_na['earliest_cr_line'])/np.timedelta64(1,'Y'))]\n",
    "accepted_rem_na['years_since_earliest_credit'].fillna(0, inplace=True)\n",
    "accepted_rem_na['years_since_earliest_credit'] = (accepted_rem_na['years_since_earliest_credit']).astype('int64')\n",
    "# drop columns from above that are no longer needed\n",
    "accepted_rem_na.drop(['fico_range_low', 'fico_range_high', 'term', 'earliest_cr_line'], axis=1, inplace=True)"
   ]
  },
  {
   "cell_type": "code",
   "execution_count": 54,
   "metadata": {},
   "outputs": [],
   "source": [
    "# keeping hardship and settlement stuff\n",
    "# only run for creating alternative dataset!\n",
    "# get rid of NaN in loan_amnt - 33 rows that are missing numerous columns\n",
    "accepted_rem_na = accepted[accepted['loan_amnt'].notna()]\n",
    "# dropping rows with data not usefull for our project\n",
    "accepted_rem_na.drop(['zip_code', 'member_id', 'id'], axis=1, inplace=True)\n",
    "accepted.drop(['url', 'emp_title', 'desc', 'title'], axis=1, inplace=True)\n",
    "# replacing missing dti with max dti - these were created by devide by zero errors\n",
    "accepted_rem_na['dti'].fillna(accepted.dti.max(), inplace=True)\n",
    "# Getting rid of Hardship other than flag and settle columns\n",
    "# hardship_col = [col for col in accepted_rem_na if col.startswith('hard')]\n",
    "# accepted_rem_na.drop(hardship_col[1:], axis=1, inplace=True)\n",
    "# settle_col = [col for col in accepted_rem_na if col.startswith('settle')]\n",
    "# accepted_rem_na.drop(settle_col[1:], axis=1, inplace=True)\n",
    "# changing to date and adding month and year\n",
    "accepted_rem_na['issue_d'] = pd.to_datetime(accepted_rem_na['issue_d'])\n",
    "accepted_rem_na['issue_year'] = pd.DatetimeIndex(accepted_rem_na['issue_d']).year\n",
    "accepted_rem_na['issue_month'] = pd.DatetimeIndex(accepted_rem_na['issue_d']).month\n",
    "accepted_rem_na['earliest_cr_line'] = pd.to_datetime(accepted_rem_na['earliest_cr_line'])\n",
    "\n",
    "accepted_rem_na['fico'] = [val for val in ((accepted_rem_na['fico_range_low'] + accepted_rem_na['fico_range_high'])/2)]\n",
    "accepted_rem_na['fico'] = [fico(val) for val in accepted_rem_na['fico']]\n",
    "accepted_rem_na['term_60'] = [1 if val == ' 60 months' else 0 for val in accepted_rem_na['term']]\n",
    "\n",
    "\n",
    "accepted_rem_na['years_since_earliest_credit'] = [dt_ for dt_ in ((accepted_rem_na['issue_d'] - accepted_rem_na['earliest_cr_line'])/np.timedelta64(1,'Y'))]\n",
    "accepted_rem_na['years_since_earliest_credit'].fillna(0, inplace=True)\n",
    "accepted_rem_na['years_since_earliest_credit'] = (accepted_rem_na['years_since_earliest_credit']).astype('int64')\n",
    "accepted_rem_na.drop(['fico_range_low', 'fico_range_high', 'term', 'earliest_cr_line'], axis=1, inplace=True)\n",
    "\n",
    "# saving current state to pickle\n",
    "accepted_rem_na.to_pickle('data/accepted_for_credit.pkl')"
   ]
  },
  {
   "cell_type": "code",
   "execution_count": 55,
   "metadata": {},
   "outputs": [],
   "source": []
  },
  {
   "cell_type": "code",
   "execution_count": null,
   "metadata": {
    "ExecuteTime": {
     "end_time": "2020-12-28T22:39:48.092006Z",
     "start_time": "2020-12-28T22:39:45.254451Z"
    }
   },
   "outputs": [],
   "source": [
    "for col in accepted_rem_na.columns:\n",
    "    if accepted_rem_na[col].dtype == 'object':\n",
    "        accepted_rem_na[col].fillna('na', inplace=True)\n",
    "    else:\n",
    "        accepted_rem_na[col].fillna(0, inplace=True)"
   ]
  },
  {
   "cell_type": "code",
   "execution_count": null,
   "metadata": {},
   "outputs": [],
   "source": [
    "col_accep = missing_data_df(accepted_rem_na)"
   ]
  },
  {
   "cell_type": "code",
   "execution_count": null,
   "outputs": [],
   "source": [],
   "metadata": {
    "collapsed": false,
    "pycharm": {
     "name": "#%%\n"
    }
   }
  },
  {
   "cell_type": "code",
   "execution_count": null,
   "outputs": [],
   "source": [
    "# changing columns to cat data\n",
    "cat_data = []\n",
    "# clearing data from memory\n",
    "del accepted\n",
    "del hardship_col\n",
    "del settle_col\n",
    "\n",
    "accepted_rem_na = accepted_rem_na.fillna('na')\n",
    "for col_ in col_accep['col_name'][1:]:\n",
    "     #['unique_count']])#if accepted_rem_na[col_][['unique_count']<20]:\n",
    "     if (len(accepted_rem_na[col_].unique()) < 55):\n",
    "         print(col_)\n",
    "         cat_data.append(col_)\n",
    "         #accepted_rem_na(col_).fillna('na')\n",
    "         accepted_rem_na[col_] = accepted_rem_na[col_].astype('category')\n"
   ],
   "metadata": {
    "collapsed": false,
    "pycharm": {
     "name": "#%%\n"
    }
   }
  },
  {
   "cell_type": "code",
   "execution_count": null,
   "outputs": [],
   "source": [
    "\n",
    "cat_data_ = pd.Series(cat_data)\n",
    "cat_data_.to_pickle('data/cat_data.pkl')"
   ],
   "metadata": {
    "collapsed": false,
    "pycharm": {
     "name": "#%%\n"
    }
   }
  },
  {
   "cell_type": "code",
   "execution_count": null,
   "outputs": [],
   "source": [
    "col_accep = missing_data_df(accepted_rem_na)"
   ],
   "metadata": {
    "collapsed": false,
    "pycharm": {
     "name": "#%%\n"
    }
   }
  },
  {
   "cell_type": "code",
   "execution_count": null,
   "outputs": [],
   "source": [
    "# saving current state to pickle\n",
    "accepted_rem_na.to_pickle('data/accepted_rem_na.pkl')\n",
    "\n",
    "col_accep.to_pickle('data/col_accep.pkl')"
   ],
   "metadata": {
    "collapsed": false,
    "pycharm": {
     "name": "#%%\n"
    }
   }
  },
  {
   "cell_type": "code",
   "execution_count": null,
   "outputs": [],
   "source": [],
   "metadata": {
    "collapsed": false,
    "pycharm": {
     "name": "#%%\n"
    }
   }
  },
  {
   "cell_type": "code",
   "execution_count": null,
   "metadata": {},
   "outputs": [],
   "source": []
  },
  {
   "cell_type": "code",
   "execution_count": null,
   "metadata": {
    "ExecuteTime": {
     "end_time": "2020-12-28T22:40:29.366765Z",
     "start_time": "2020-12-28T22:40:00.464982Z"
    },
    "pycharm": {
     "name": "#%%\n"
    }
   },
   "outputs": [],
   "source": [
    "# changing columns to cat data\n",
    "cat_data = []\n",
    "# clearing data from memory\n",
    "del accepted\n",
    "del hardship_col\n",
    "del settle_col\n",
    "\n",
    "accepted_rem_na = accepted_rem_na.fillna('na')\n",
    "for col_ in col_accep['col_name'][1:]:\n",
    "     #['unique_count']])#if accepted_rem_na[col_][['unique_count']<20]:\n",
    "     if (len(accepted_rem_na[col_].unique()) < 55):\n",
    "         print(col_)\n",
    "         cat_data.append(col_)\n",
    "         #accepted_rem_na(col_).fillna('na')\n",
    "         accepted_rem_na[col_] = accepted_rem_na[col_].astype('category')\n"
   ]
  },
  {
   "cell_type": "code",
   "execution_count": 40,
   "metadata": {
    "ExecuteTime": {
     "end_time": "2020-12-28T22:41:01.744029Z",
     "start_time": "2020-12-28T22:41:01.735096Z"
    }
   },
   "outputs": [],
   "source": [
    "\n",
    "cat_data_ = pd.Series(cat_data)\n",
    "cat_data_.to_pickle('data/cat_data.pkl')"
   ]
  },
  {
   "cell_type": "code",
   "execution_count": 41,
   "metadata": {
    "ExecuteTime": {
     "end_time": "2020-12-28T22:41:13.453380Z",
     "start_time": "2020-12-28T22:41:04.346986Z"
    },
    "pycharm": {
     "name": "#%%\n"
    }
   },
   "outputs": [],
   "source": [
    "col_accep = missing_data_df(accepted_rem_na)"
   ]
  },
  {
   "cell_type": "code",
   "execution_count": 42,
   "metadata": {
    "ExecuteTime": {
     "end_time": "2020-12-28T22:41:16.441916Z",
     "start_time": "2020-12-28T22:41:13.454455Z"
    },
    "pycharm": {
     "name": "#%%\n"
    }
   },
   "outputs": [],
   "source": [
    "# saving current state to pickle\n",
    "accepted_rem_na.to_pickle('data/accepted_rem_na.pkl')\n",
    "\n",
    "col_accep.to_pickle('data/col_accep.pkl')"
   ]
  },
  {
   "cell_type": "code",
   "execution_count": null,
   "metadata": {},
   "outputs": [],
   "source": []
  }
 ],
 "metadata": {
  "celltoolbar": "Tags",
  "kernelspec": {
   "display_name": "Python 3",
   "language": "python",
   "name": "python3"
  },
  "language_info": {
   "codemirror_mode": {
    "name": "ipython",
    "version": 3
   },
   "file_extension": ".py",
   "mimetype": "text/x-python",
   "name": "python",
   "nbconvert_exporter": "python",
   "pygments_lexer": "ipython3",
   "version": "3.8.5"
  },
  "toc": {
   "base_numbering": 1,
   "nav_menu": {},
   "number_sections": true,
   "sideBar": true,
   "skip_h1_title": false,
   "title_cell": "Table of Contents",
   "title_sidebar": "Contents",
   "toc_cell": false,
   "toc_position": {},
   "toc_section_display": true,
   "toc_window_display": true
  },
  "varInspector": {
   "cols": {
    "lenName": 16,
    "lenType": 16,
    "lenVar": 40
   },
   "kernels_config": {
    "python": {
     "delete_cmd_postfix": "",
     "delete_cmd_prefix": "del ",
     "library": "var_list.py",
     "varRefreshCmd": "print(var_dic_list())"
    },
    "r": {
     "delete_cmd_postfix": ") ",
     "delete_cmd_prefix": "rm(",
     "library": "var_list.r",
     "varRefreshCmd": "cat(var_dic_list()) "
    }
   },
   "types_to_exclude": [
    "module",
    "function",
    "builtin_function_or_method",
    "instance",
    "_Feature"
   ],
   "window_display": false
  }
 },
 "nbformat": 4,
 "nbformat_minor": 4
}
